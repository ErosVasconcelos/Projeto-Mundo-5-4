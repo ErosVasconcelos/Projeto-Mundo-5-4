{
  "nbformat": 4,
  "nbformat_minor": 0,
  "metadata": {
    "colab": {
      "provenance": []
    },
    "kernelspec": {
      "name": "python3",
      "display_name": "Python 3"
    },
    "language_info": {
      "name": "python"
    }
  },
  "cells": [
    {
      "cell_type": "markdown",
      "source": [
        "# Análise de Sentimentos com TextBlob\n",
        "Este notebook realiza análise de sentimentos em tweets relacionados a clubes de futebol da Inglaterra, utilizando a biblioteca TextBlob.\n"
      ],
      "metadata": {
        "id": "VjPwaTjv91U2"
      }
    },
    {
      "cell_type": "markdown",
      "source": [
        "# Passo 1: Instalando e importando as bibliotecas necessárias\n"
      ],
      "metadata": {
        "id": "RTmUfLfL93Gu"
      }
    },
    {
      "cell_type": "code",
      "execution_count": null,
      "metadata": {
        "colab": {
          "base_uri": "https://localhost:8080/"
        },
        "id": "ZuJB8YWx9tBk",
        "outputId": "523b8b9b-3c8b-47e7-a001-4630265e10c0"
      },
      "outputs": [
        {
          "output_type": "stream",
          "name": "stdout",
          "text": [
            "Requirement already satisfied: vaderSentiment in /usr/local/lib/python3.11/dist-packages (3.3.2)\n",
            "Requirement already satisfied: requests in /usr/local/lib/python3.11/dist-packages (from vaderSentiment) (2.32.3)\n",
            "Requirement already satisfied: charset-normalizer<4,>=2 in /usr/local/lib/python3.11/dist-packages (from requests->vaderSentiment) (3.4.2)\n",
            "Requirement already satisfied: idna<4,>=2.5 in /usr/local/lib/python3.11/dist-packages (from requests->vaderSentiment) (3.10)\n",
            "Requirement already satisfied: urllib3<3,>=1.21.1 in /usr/local/lib/python3.11/dist-packages (from requests->vaderSentiment) (2.4.0)\n",
            "Requirement already satisfied: certifi>=2017.4.17 in /usr/local/lib/python3.11/dist-packages (from requests->vaderSentiment) (2025.4.26)\n"
          ]
        }
      ],
      "source": [
        "!pip install -q textblob\n",
        "from textblob import TextBlob\n",
        "\n",
        "!pip install vaderSentiment\n",
        "\n",
        "from vaderSentiment.vaderSentiment import SentimentIntensityAnalyzer\n"
      ]
    },
    {
      "cell_type": "markdown",
      "source": [
        "# Passo 2: Definindo um texto de exemplo para análise\n"
      ],
      "metadata": {
        "id": "P9NFowKF-CEW"
      }
    },
    {
      "cell_type": "code",
      "source": [
        "texto_exemplo = \"This is a wonderful campsite. I loved the serenity and the birds chirping in the morning.\"\n",
        "analise = TextBlob(texto_exemplo)\n",
        "\n",
        "print(f\"Texto: {texto_exemplo}\")\n",
        "print(f\"Polaridade: {analise.sentiment.polarity}\")\n",
        "print(f\"Subjetividade: {analise.sentiment.subjectivity}\")\n"
      ],
      "metadata": {
        "colab": {
          "base_uri": "https://localhost:8080/"
        },
        "id": "_exTDvT3-EO2",
        "outputId": "f6a90a29-2849-40fb-ebe9-46295108ee70"
      },
      "execution_count": null,
      "outputs": [
        {
          "output_type": "stream",
          "name": "stdout",
          "text": [
            "Texto: This is a wonderful campsite. I loved the serenity and the birds chirping in the morning.\n",
            "Polaridade: 0.85\n",
            "Subjetividade: 0.9\n"
          ]
        }
      ]
    },
    {
      "cell_type": "markdown",
      "source": [
        "# Passo 3: Definindo a lista de tweets\n"
      ],
      "metadata": {
        "id": "Eq-p-Yhc-JR2"
      }
    },
    {
      "cell_type": "code",
      "source": [
        "tweets = [\n",
        "    \"Bayer Leverkusen goalkeeper Bernd Leno will not be going to Napoli...\",\n",
        "    \"@ChelseaFC Don't make him regret it and start him over Hoofiz\",\n",
        "    \"@LFC @officialAL20 @IntChampionsCup @ManUtd Expect loads of excuses...\",\n",
        "    \"@ChelseaFC For the first time in a long while, my heart was relaxed...\",\n",
        "    \"What a weekend of football results! @ManUtd @Glentoran @RangersFC...\",\n",
        "    \"@WestHamUtd we need to keep @CH14_ and get @HirvingLozano70...\",\n",
        "    \"@brfootball @aguerosergiokun @ManCity What a genius. Pep...\",\n",
        "    \"@HMZ0709 Can we get a RT for our #lfc Mo Salah Liverpool Enamel Pin Badge\"\n",
        "]\n"
      ],
      "metadata": {
        "id": "GL0o0ZxG-NBX"
      },
      "execution_count": null,
      "outputs": []
    },
    {
      "cell_type": "markdown",
      "source": [
        "# Passo 4: Analisando os sentimentos dos tweets\n"
      ],
      "metadata": {
        "id": "b677iwLY-Rr-"
      }
    },
    {
      "cell_type": "code",
      "source": [
        "\n",
        "analyzer = SentimentIntensityAnalyzer()\n",
        "\n",
        "for tweet in tweets:\n",
        "    # Pré-processar: remover menções e hashtags\n",
        "    import re\n",
        "    clean_tweet = re.sub(r'@\\w+|#\\w+', '', tweet)\n",
        "    vs = analyzer.polarity_scores(clean_tweet)\n",
        "    print(f\"Tweet: {tweet}\\nSentimento: {vs}\\n\")\n"
      ],
      "metadata": {
        "colab": {
          "base_uri": "https://localhost:8080/"
        },
        "id": "g4yh9z5wB2C2",
        "outputId": "d13b4970-bf20-44ca-8b49-1ca888f8672f"
      },
      "execution_count": null,
      "outputs": [
        {
          "output_type": "stream",
          "name": "stdout",
          "text": [
            "Tweet: Bayer Leverkusen goalkeeper Bernd Leno will not be going to Napoli...\n",
            "Sentimento: {'neg': 0.0, 'neu': 1.0, 'pos': 0.0, 'compound': 0.0}\n",
            "\n",
            "Tweet: @ChelseaFC Don't make him regret it and start him over Hoofiz\n",
            "Sentimento: {'neg': 0.0, 'neu': 0.794, 'pos': 0.206, 'compound': 0.3252}\n",
            "\n",
            "Tweet: @LFC @officialAL20 @IntChampionsCup @ManUtd Expect loads of excuses...\n",
            "Sentimento: {'neg': 0.0, 'neu': 1.0, 'pos': 0.0, 'compound': 0.0}\n",
            "\n",
            "Tweet: @ChelseaFC For the first time in a long while, my heart was relaxed...\n",
            "Sentimento: {'neg': 0.0, 'neu': 0.575, 'pos': 0.425, 'compound': 0.8126}\n",
            "\n",
            "Tweet: What a weekend of football results! @ManUtd @Glentoran @RangersFC...\n",
            "Sentimento: {'neg': 0.0, 'neu': 1.0, 'pos': 0.0, 'compound': 0.0}\n",
            "\n",
            "Tweet: @WestHamUtd we need to keep @CH14_ and get @HirvingLozano70...\n",
            "Sentimento: {'neg': 0.0, 'neu': 1.0, 'pos': 0.0, 'compound': 0.0}\n",
            "\n",
            "Tweet: @brfootball @aguerosergiokun @ManCity What a genius. Pep...\n",
            "Sentimento: {'neg': 0.0, 'neu': 1.0, 'pos': 0.0, 'compound': 0.0}\n",
            "\n",
            "Tweet: @HMZ0709 Can we get a RT for our #lfc Mo Salah Liverpool Enamel Pin Badge\n",
            "Sentimento: {'neg': 0.0, 'neu': 1.0, 'pos': 0.0, 'compound': 0.0}\n",
            "\n"
          ]
        }
      ]
    }
  ]
}